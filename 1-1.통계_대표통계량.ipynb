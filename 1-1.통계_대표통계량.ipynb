{
 "cells": [
  {
   "cell_type": "code",
   "execution_count": 1,
   "metadata": {},
   "outputs": [],
   "source": [
    "import numpy as np\n",
    "from scipy.stats import *\n",
    "from scipy import stats\n",
    "import pandas as pd"
   ]
  },
  {
   "cell_type": "markdown",
   "metadata": {},
   "source": [
    "### 산술평균 (Arithmetic Mean)"
   ]
  },
  {
   "cell_type": "code",
   "execution_count": 2,
   "metadata": {},
   "outputs": [
    {
     "name": "stdout",
     "output_type": "stream",
     "text": [
      "3.0\n",
      "3.0\n",
      "3.0\n"
     ]
    }
   ],
   "source": [
    "x = [1, 2, 3, 4, 5]\n",
    "print(np.mean(x))\n",
    "print(np.array(x).mean()) # array : numpy의 기본 형태, 다차원 형태의 데이터를 만들 수 있음\n",
    "print(pd.Series(x).mean())"
   ]
  },
  {
   "cell_type": "markdown",
   "metadata": {},
   "source": [
    "### 조화평균 (Harmonic Mean)\n",
    "\n",
    "2ab / (a+b)"
   ]
  },
  {
   "cell_type": "code",
   "execution_count": 3,
   "metadata": {},
   "outputs": [
    {
     "data": {
      "text/plain": [
       "numpy.ndarray"
      ]
     },
     "execution_count": 3,
     "metadata": {},
     "output_type": "execute_result"
    }
   ],
   "source": [
    "x = np.array([0.1, 0.2, 0.3, 0.4, 0.5])\n",
    "type(x) # numpy, ndarray"
   ]
  },
  {
   "cell_type": "code",
   "execution_count": 4,
   "metadata": {},
   "outputs": [
    {
     "name": "stdout",
     "output_type": "stream",
     "text": [
      "0.21897810218978103\n",
      "0.21897810218978103\n"
     ]
    }
   ],
   "source": [
    "print(len(x)/np.sum(1/x))\n",
    "print(hmean(x))"
   ]
  },
  {
   "cell_type": "markdown",
   "metadata": {},
   "source": [
    "### 절사평균 (Trimmed Mean)"
   ]
  },
  {
   "cell_type": "code",
   "execution_count": 5,
   "metadata": {},
   "outputs": [
    {
     "name": "stdout",
     "output_type": "stream",
     "text": [
      "2070350.2\n"
     ]
    }
   ],
   "source": [
    "income = np.random.normal(2000000, 500000, 100)\n",
    "print(round(np.mean(income),1))"
   ]
  },
  {
   "cell_type": "code",
   "execution_count": 6,
   "metadata": {},
   "outputs": [
    {
     "name": "stdout",
     "output_type": "stream",
     "text": [
      "11950841.8\n"
     ]
    }
   ],
   "source": [
    "income = np.append(income, 10**9)\n",
    "\n",
    "print(round(np.mean(income),1))"
   ]
  },
  {
   "cell_type": "code",
   "execution_count": 7,
   "metadata": {},
   "outputs": [
    {
     "data": {
      "text/plain": [
       "2072073.2"
      ]
     },
     "execution_count": 7,
     "metadata": {},
     "output_type": "execute_result"
    }
   ],
   "source": [
    "round(trim_mean(income, 0.2),1) # 20% ~ 80%"
   ]
  },
  {
   "cell_type": "markdown",
   "metadata": {},
   "source": [
    "vs-code의 주피노트북 단축키\n",
    "- a : 현재 셀 위쪽에 코드셀 추가\n",
    "- b : 현재 셀 아래쪽에 코드셀 추가\n",
    "- m  : 텍스트 셀로 변환\n",
    "- y  : 코드셀로 변환\n",
    "- dd : 현재 커서가 있는 셀 삭제\n",
    "- esc키 : 입력모드에서 탈출"
   ]
  },
  {
   "cell_type": "markdown",
   "metadata": {},
   "source": [
    "### 최빈값 (Mode)"
   ]
  },
  {
   "cell_type": "code",
   "execution_count": 8,
   "metadata": {},
   "outputs": [
    {
     "data": {
      "text/plain": [
       "10000"
      ]
     },
     "execution_count": 8,
     "metadata": {},
     "output_type": "execute_result"
    }
   ],
   "source": [
    "np.random.seed(0) # 시작점 설정 및 재현성 보장\n",
    "data = np.random.randint(0, 100, 10000)\n",
    "len(data)"
   ]
  },
  {
   "cell_type": "code",
   "execution_count": 9,
   "metadata": {},
   "outputs": [
    {
     "name": "stdout",
     "output_type": "stream",
     "text": [
      "<class 'scipy.stats._stats_py.ModeResult'>\n",
      "ModeResult(mode=3, count=125)\n",
      "mode : 3 (125)\n"
     ]
    }
   ],
   "source": [
    "mode = stats.mode(data, keepdims=False) \n",
    "# keepdimension, false : 원본보다 낮은 차원으로 최빈값 출력, true : 원본과 같은 차원으로 최빈값 출력\n",
    "print(type(mode))\n",
    "print(mode) # tuple\n",
    "print(\"mode : {} ({})\".format(mode[0], mode[1]))"
   ]
  },
  {
   "cell_type": "code",
   "execution_count": 10,
   "metadata": {},
   "outputs": [
    {
     "data": {
      "text/plain": [
       "array(['C', 'A', 'B', 'C', 'C', 'B', 'C', 'C', 'B', 'C'], dtype='<U1')"
      ]
     },
     "execution_count": 10,
     "metadata": {},
     "output_type": "execute_result"
    }
   ],
   "source": [
    "x = np.random.choice(['A', 'B', 'C'], 1000)\n",
    "x[:10]"
   ]
  },
  {
   "cell_type": "code",
   "execution_count": 11,
   "metadata": {},
   "outputs": [
    {
     "data": {
      "text/plain": [
       "(array(['A', 'B', 'C'], dtype='<U1'), array([323, 339, 338], dtype=int64))"
      ]
     },
     "execution_count": 11,
     "metadata": {},
     "output_type": "execute_result"
    }
   ],
   "source": [
    "unique_values, counts = np.unique(x, return_counts=True)\n",
    "unique_values, counts\n",
    "# dtype : numpy array type"
   ]
  },
  {
   "cell_type": "code",
   "execution_count": 12,
   "metadata": {},
   "outputs": [
    {
     "name": "stdout",
     "output_type": "stream",
     "text": [
      "1\n"
     ]
    },
    {
     "data": {
      "text/plain": [
       "'B'"
      ]
     },
     "execution_count": 12,
     "metadata": {},
     "output_type": "execute_result"
    }
   ],
   "source": [
    "most_common_value = unique_values[np.argmax(counts)] \n",
    "print(np.argmax(counts)) # argmax : 가장 큰 value의 index를 출력\n",
    "most_common_value"
   ]
  },
  {
   "cell_type": "code",
   "execution_count": 13,
   "metadata": {},
   "outputs": [
    {
     "data": {
      "text/plain": [
       "339"
      ]
     },
     "execution_count": 13,
     "metadata": {},
     "output_type": "execute_result"
    }
   ],
   "source": [
    "frequency = counts[np.argmax(counts)]\n",
    "frequency"
   ]
  },
  {
   "cell_type": "code",
   "execution_count": 14,
   "metadata": {},
   "outputs": [
    {
     "name": "stdout",
     "output_type": "stream",
     "text": [
      "mode :  B\n",
      "frequency:  339\n"
     ]
    }
   ],
   "source": [
    "print(\"mode : \", most_common_value)\n",
    "print(\"frequency: \", frequency)"
   ]
  },
  {
   "cell_type": "code",
   "execution_count": 15,
   "metadata": {},
   "outputs": [
    {
     "name": "stdout",
     "output_type": "stream",
     "text": [
      "B    339\n",
      "C    338\n",
      "A    323\n",
      "Name: count, dtype: int64\n",
      "mode:  338\n"
     ]
    }
   ],
   "source": [
    "freq_cnt = pd.Series(x).value_counts()\n",
    "print(freq_cnt)\n",
    "print('mode: ', freq_cnt.iloc[1])"
   ]
  },
  {
   "cell_type": "code",
   "execution_count": 16,
   "metadata": {},
   "outputs": [],
   "source": [
    "x = np.array([1,1,1,2,2,2,3,4,5])"
   ]
  },
  {
   "cell_type": "code",
   "execution_count": 18,
   "metadata": {},
   "outputs": [
    {
     "name": "stdout",
     "output_type": "stream",
     "text": [
      "1    3\n",
      "2    3\n",
      "3    1\n",
      "4    1\n",
      "5    1\n",
      "Name: count, dtype: int64\n",
      "mode :  3\n"
     ]
    }
   ],
   "source": [
    "freq_cnt = pd.Series(x).value_counts()\n",
    "print(freq_cnt)\n",
    "print('mode : ', freq_cnt.iloc[1])"
   ]
  },
  {
   "cell_type": "code",
   "execution_count": 19,
   "metadata": {},
   "outputs": [],
   "source": [
    "mode = stats.mode(x, keepdims=False)"
   ]
  },
  {
   "cell_type": "code",
   "execution_count": 20,
   "metadata": {},
   "outputs": [
    {
     "name": "stdout",
     "output_type": "stream",
     "text": [
      "ModeResult(mode=1, count=3)\n",
      "<class 'scipy.stats._stats_py.ModeResult'>\n",
      "mode : 1 (3)\n"
     ]
    }
   ],
   "source": [
    "print(mode)\n",
    "print(type(mode))\n",
    "print('mode : {} ({})'.format(mode[0], mode[1]))"
   ]
  },
  {
   "cell_type": "markdown",
   "metadata": {},
   "source": [
    "### 데이터의 대푯값"
   ]
  },
  {
   "cell_type": "code",
   "execution_count": 25,
   "metadata": {},
   "outputs": [
    {
     "name": "stdout",
     "output_type": "stream",
     "text": [
      "[2 0 1 1 0 0 0 0 1 1]\n",
      "mean :  0.6\n",
      "median :  0.5\n",
      "mode :  0 \n",
      "frequency :  5\n"
     ]
    }
   ],
   "source": [
    "data = np.random.randint(0,5, 10)\n",
    "print(data)\n",
    "\n",
    "mean = np.mean(data)\n",
    "print(\"mean : \", mean.round(2))\n",
    "\n",
    "median = np.median(data)\n",
    "print('median : ', median)\n",
    "\n",
    "mode = stats.mode(data)\n",
    "print('mode : ', mode[0], \"\\nfrequency : \", mode[1])"
   ]
  },
  {
   "cell_type": "markdown",
   "metadata": {},
   "source": [
    "### pandas로 대푯값 구하기"
   ]
  },
  {
   "cell_type": "code",
   "execution_count": 36,
   "metadata": {},
   "outputs": [
    {
     "name": "stdout",
     "output_type": "stream",
     "text": [
      "mean : 49.7\n",
      "median :  50.0\n",
      "mode :  0    67\n",
      "dtype: int32\n"
     ]
    }
   ],
   "source": [
    "data = np.random.randint(0, 100, 10000)\n",
    "data_s = pd.Series(data)\n",
    "\n",
    "mean = data_s.mean()\n",
    "print(\"mean : {:.1f}\".format(mean))\n",
    "\n",
    "median = data_s.median()\n",
    "print(\"median : \", median)\n",
    "\n",
    "mode = data_s.mode()\n",
    "print('mode : ', mode) # 인덱스와 최빈값을 함께 출력"
   ]
  },
  {
   "cell_type": "code",
   "execution_count": null,
   "metadata": {},
   "outputs": [],
   "source": []
  }
 ],
 "metadata": {
  "kernelspec": {
   "display_name": "base",
   "language": "python",
   "name": "python3"
  },
  "language_info": {
   "codemirror_mode": {
    "name": "ipython",
    "version": 3
   },
   "file_extension": ".py",
   "mimetype": "text/x-python",
   "name": "python",
   "nbconvert_exporter": "python",
   "pygments_lexer": "ipython3",
   "version": "3.10.14"
  }
 },
 "nbformat": 4,
 "nbformat_minor": 2
}
