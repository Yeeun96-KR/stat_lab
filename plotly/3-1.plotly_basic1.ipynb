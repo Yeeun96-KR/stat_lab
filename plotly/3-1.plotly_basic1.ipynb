{
 "cells": [
  {
   "cell_type": "markdown",
   "id": "5f96dab1-5f86-493c-812e-66f976d1ffc1",
   "metadata": {},
   "source": [
    "# plotly 데이터 시각화\n"
   ]
  },
  {
   "cell_type": "markdown",
   "id": "9441852c-5c97-491f-b228-6d08af568395",
   "metadata": {},
   "source": [
    "- 공식 문서 : https://plotly.com/python/\n",
    "- 참고 문서 :  https://wikidocs.net/185748"
   ]
  },
  {
   "cell_type": "markdown",
   "id": "15dc802b-62c6-49fc-814f-4d2f19ed07cb",
   "metadata": {},
   "source": [
    "- 파이썬 기반 오픈소스 시각화라이브러리\n",
    "- jupyter notebook과 웹 브라우저에 모두 호환 가능\n",
    "- plotly.js 기반으로 구현되어 있음 - 웹브라우저 호환\n",
    "- 유료버전/무료버전 모두 있음"
   ]
  },
  {
   "cell_type": "markdown",
   "id": "5352ff5c-3b41-4c8e-be7f-575956bbdc7c",
   "metadata": {},
   "source": [
    "## Online 모드 vs Offline 모드\n",
    "### online 모드\n",
    "- plotly chart studio라고 불리는 서버에 연결되어 시각화 작성ㅂ 수행\n",
    "- plotly 회원가입, 인증키(API 키)를 발급 받아야함.\n",
    "- 프로그램을 실행 시킬 때 사용자명과 API키가 필요함.\n",
    "- plotly 3.x 버전은 online, offline 모드 모두 포함하고 있음.\n",
    "- plotly 4.x 버전 이상부터는 online 버전 미포함, Online 버전은 chart studio 통해서만 지원\n",
    "### Offline 모드\n",
    "- 인터넷에 연결되지 있지 않음\n",
    "- 시각화 작업을 내 컴퓨터에서 수행\n",
    "- plotly 5.14.1 (2023.05.23 기준)"
   ]
  },
  {
   "cell_type": "markdown",
   "id": "de8d5070-5b85-4381-9907-62d76e80da18",
   "metadata": {},
   "source": [
    "## Plotly 중요 모듈\n",
    "### graph_objects\n",
    "- plotly에서 제공하는 데이터 시각화를 위한 모듈\n",
    "- matplotlib의 pyplot 모듈과 같이, Figure를 생성하고, 그래프(plot)을 그리는 대부분의 기능을 제공하는 핵심 모듈\n",
    "- Low-level interface 제공\n",
    "    - 기능이 풍부하여 원하는 대로 그래프 수정 및 제어가능\n",
    "    - But! 문법이 복잡하고 사용하기 어려움\n",
    "### express\n",
    "- 사용자 친화적이고 사용하기 쉽도록 구현된 모듈\n",
    "- High-level interface 제공\n",
    "    - 사용자 입장에서 손십게 사용할 수 있는 Interface 제공\n",
    "    - Graph_objects와 비교하여 기능이 제한적(ex. multi-index 지원 안됨)"
   ]
  },
  {
   "cell_type": "markdown",
   "id": "1287df2c-3ff3-4834-8524-a8289dac8fec",
   "metadata": {},
   "source": [
    "### 예제1)"
   ]
  },
  {
   "cell_type": "code",
   "execution_count": 14,
   "id": "e4ae0f64-4134-4796-bb50-5de65f98cb96",
   "metadata": {},
   "outputs": [
    {
     "name": "stdout",
     "output_type": "stream",
     "text": [
      "Requirement already satisfied: plotly in c:\\users\\admin\\anaconda3\\lib\\site-packages (5.23.0)\n",
      "Requirement already satisfied: tenacity>=6.2.0 in c:\\users\\admin\\anaconda3\\lib\\site-packages (from plotly) (8.2.3)\n",
      "Requirement already satisfied: packaging in c:\\users\\admin\\anaconda3\\lib\\site-packages (from plotly) (23.2)\n",
      "Note: you may need to restart the kernel to use updated packages.\n"
     ]
    }
   ],
   "source": [
    "pip install plotly"
   ]
  },
  {
   "cell_type": "code",
   "execution_count": 15,
   "id": "ee648f39-11e3-4c74-aabc-7812f6c90e78",
   "metadata": {},
   "outputs": [],
   "source": [
    "import pandas as pd\n",
    "import plotly"
   ]
  },
  {
   "cell_type": "code",
   "execution_count": 16,
   "id": "56f2547e-ce69-4099-ba67-74aa3b638064",
   "metadata": {},
   "outputs": [
    {
     "data": {
      "text/plain": [
       "'5.23.0'"
      ]
     },
     "execution_count": 16,
     "metadata": {},
     "output_type": "execute_result"
    }
   ],
   "source": [
    "plotly.__version__"
   ]
  },
  {
   "cell_type": "code",
   "execution_count": 17,
   "id": "940f9b58-26fd-4d73-bdf1-49a1b4f747b5",
   "metadata": {},
   "outputs": [],
   "source": [
    "# 오프라인 모드로 변경하기(4.x 버전에서는 필요했음)\n",
    "# import plotly.offline as pyo\n",
    "# pyo.init_notebook_mode()"
   ]
  },
  {
   "cell_type": "code",
   "execution_count": 18,
   "id": "8c6643d5-71ef-4595-97d9-af546dfc1063",
   "metadata": {},
   "outputs": [],
   "source": [
    "import plotly.io as pio\n",
    "pio.renderers.default = 'iframe'"
   ]
  },
  {
   "cell_type": "markdown",
   "id": "4536aafd-7de0-474c-8799-0fdab17a0414",
   "metadata": {},
   "source": [
    "### graph_objects 모듈을 활용한 그래프 생성"
   ]
  },
  {
   "cell_type": "code",
   "execution_count": 19,
   "id": "aedd2e3f-bf22-4e36-bdd4-2a49acc68794",
   "metadata": {},
   "outputs": [
    {
     "data": {
      "text/html": [
       "<iframe\n",
       "    scrolling=\"no\"\n",
       "    width=\"820px\"\n",
       "    height=\"420\"\n",
       "    src=\"iframe_figures/figure_19.html\"\n",
       "    frameborder=\"0\"\n",
       "    allowfullscreen\n",
       "></iframe>\n"
      ]
     },
     "metadata": {},
     "output_type": "display_data"
    }
   ],
   "source": [
    "# 모듈 import\n",
    "import plotly.graph_objects as go\n",
    "\n",
    "# Figure 생성\n",
    "## go.Figure() 함수를 활용하여 기본 그래프를 생성\n",
    "fig = go.Figure(\n",
    "\n",
    "    # Data 입력\n",
    "    data=[go.Bar(x=[1, 2, 3], y=[1, 3, 2])],\n",
    ")\n",
    "## layout 입력\n",
    "fig.update_layout(\n",
    "    title=go.layout.Title(text=\"A Figure Specified By A Graph Object\"),\n",
    "    width=800,height=400\n",
    ")\n",
    "# Figure 랜더링\n",
    "fig.show()"
   ]
  },
  {
   "cell_type": "markdown",
   "id": "d14ab4d3-a347-4587-bb44-6667fa8436dd",
   "metadata": {},
   "source": [
    "### express 모듈을 활용한 그래프 생성"
   ]
  },
  {
   "cell_type": "code",
   "execution_count": 20,
   "id": "9f729be9-627a-40be-a04f-de1183df2408",
   "metadata": {},
   "outputs": [
    {
     "data": {
      "text/html": [
       "<iframe\n",
       "    scrolling=\"no\"\n",
       "    width=\"820px\"\n",
       "    height=\"420\"\n",
       "    src=\"iframe_figures/figure_20.html\"\n",
       "    frameborder=\"0\"\n",
       "    allowfullscreen\n",
       "></iframe>\n"
      ]
     },
     "metadata": {},
     "output_type": "display_data"
    }
   ],
   "source": [
    "# 모듈 import \n",
    "import plotly.express as px\n",
    "\n",
    "# Figure 생성\n",
    "fig = px.bar(x=[\"a\", \"b\", \"c\"], y=[1, 3, 2],\n",
    "            title=\"A Figure Specified By express\",\n",
    "            width=800, height=400\n",
    "            )\n",
    "# Figure 랜더링\n",
    "fig.show()"
   ]
  },
  {
   "cell_type": "markdown",
   "id": "2fa38adb-1811-4d16-8699-4625d145c919",
   "metadata": {},
   "source": [
    "### 예제2"
   ]
  },
  {
   "cell_type": "code",
   "execution_count": 21,
   "id": "5414ed4a-3900-464f-aeba-1fd971a00d36",
   "metadata": {},
   "outputs": [
    {
     "data": {
      "text/html": [
       "<div>\n",
       "<style scoped>\n",
       "    .dataframe tbody tr th:only-of-type {\n",
       "        vertical-align: middle;\n",
       "    }\n",
       "\n",
       "    .dataframe tbody tr th {\n",
       "        vertical-align: top;\n",
       "    }\n",
       "\n",
       "    .dataframe thead th {\n",
       "        text-align: right;\n",
       "    }\n",
       "</style>\n",
       "<table border=\"1\" class=\"dataframe\">\n",
       "  <thead>\n",
       "    <tr style=\"text-align: right;\">\n",
       "      <th></th>\n",
       "      <th>과자</th>\n",
       "      <th>참가자</th>\n",
       "      <th>먹은 갯수</th>\n",
       "    </tr>\n",
       "  </thead>\n",
       "  <tbody>\n",
       "    <tr>\n",
       "      <th>0</th>\n",
       "      <td>빠다 코코넛</td>\n",
       "      <td>수지</td>\n",
       "      <td>5</td>\n",
       "    </tr>\n",
       "    <tr>\n",
       "      <th>1</th>\n",
       "      <td>초코파이</td>\n",
       "      <td>수지</td>\n",
       "      <td>4</td>\n",
       "    </tr>\n",
       "    <tr>\n",
       "      <th>2</th>\n",
       "      <td>에이스</td>\n",
       "      <td>수지</td>\n",
       "      <td>2</td>\n",
       "    </tr>\n",
       "    <tr>\n",
       "      <th>3</th>\n",
       "      <td>빠다 코코넛</td>\n",
       "      <td>윤아</td>\n",
       "      <td>3</td>\n",
       "    </tr>\n",
       "    <tr>\n",
       "      <th>4</th>\n",
       "      <td>초코파이</td>\n",
       "      <td>윤아</td>\n",
       "      <td>2</td>\n",
       "    </tr>\n",
       "    <tr>\n",
       "      <th>5</th>\n",
       "      <td>에이스</td>\n",
       "      <td>윤아</td>\n",
       "      <td>1</td>\n",
       "    </tr>\n",
       "  </tbody>\n",
       "</table>\n",
       "</div>"
      ],
      "text/plain": [
       "       과자 참가자  먹은 갯수\n",
       "0  빠다 코코넛  수지      5\n",
       "1    초코파이  수지      4\n",
       "2     에이스  수지      2\n",
       "3  빠다 코코넛  윤아      3\n",
       "4    초코파이  윤아      2\n",
       "5     에이스  윤아      1"
      ]
     },
     "execution_count": 21,
     "metadata": {},
     "output_type": "execute_result"
    }
   ],
   "source": [
    "# 데이터 준비\n",
    "mukbang = {\n",
    "    \"과자\" : ['빠다 코코넛', '초코파이', '에이스', '빠다 코코넛', '초코파이', '에이스'],\n",
    "    \"참가자\" : ['수지', '수지', '수지', '윤아', '윤아', '윤아'],\n",
    "    \"먹은 갯수\" : [5, 4, 2, 3, 2, 1 ]\n",
    "}\n",
    "\n",
    "df = pd.DataFrame(mukbang)\n",
    "df"
   ]
  },
  {
   "cell_type": "markdown",
   "id": "732b6837-c36a-4d85-b5ae-96c2b05d2f8f",
   "metadata": {},
   "source": [
    "### plotly.graph_objects 예제"
   ]
  },
  {
   "cell_type": "code",
   "execution_count": 22,
   "id": "aa2896cc-165c-4416-8d0b-2a94c6fa65f7",
   "metadata": {},
   "outputs": [
    {
     "data": {
      "text/html": [
       "<iframe\n",
       "    scrolling=\"no\"\n",
       "    width=\"820px\"\n",
       "    height=\"420\"\n",
       "    src=\"iframe_figures/figure_22.html\"\n",
       "    frameborder=\"0\"\n",
       "    allowfullscreen\n",
       "></iframe>\n"
      ]
     },
     "metadata": {},
     "output_type": "display_data"
    }
   ],
   "source": [
    "import plotly.graph_objects as go\n",
    "\n",
    "# 오프라인 모드로 변경하기(지금은 안해도 됨)\n",
    "# import plotly.offline as pyo\n",
    "# pyo.init_notebook_mode()\n",
    "\n",
    "fig = go.Figure()\n",
    "for contestant, group in df.groupby(\"참가자\"):\n",
    "    fig.add_trace(go.Bar(x=group[\"과자\"], y=group[\"먹은 갯수\"], name=contestant,\n",
    "                         hovertemplate=\"참가자=%s<br>과일=%%{x}<br>먹은 갯수=%%{y}<extra></extra>\"% contestant\n",
    "                        ))\n",
    "fig.update_layout(legend_title_text = \"참가자\", width=800,height=400)\n",
    "fig.update_xaxes(title_text=\"과자\")\n",
    "fig.update_yaxes(title_text=\"먹은 갯수\")\n",
    "fig.show()"
   ]
  },
  {
   "cell_type": "markdown",
   "id": "1c6f22b8-7e76-40f1-910b-b46b6305c6f8",
   "metadata": {},
   "source": [
    "## plotly.express 예제"
   ]
  },
  {
   "cell_type": "code",
   "execution_count": 23,
   "id": "03e16163-c888-47f1-b73f-21d1d9b89e27",
   "metadata": {},
   "outputs": [
    {
     "data": {
      "text/html": [
       "<iframe\n",
       "    scrolling=\"no\"\n",
       "    width=\"820px\"\n",
       "    height=\"420\"\n",
       "    src=\"iframe_figures/figure_23.html\"\n",
       "    frameborder=\"0\"\n",
       "    allowfullscreen\n",
       "></iframe>\n"
      ]
     },
     "metadata": {},
     "output_type": "display_data"
    }
   ],
   "source": [
    "import plotly.express as px\n",
    "fig = px.bar(df, x=\"과자\", y=\"먹은 갯수\", \n",
    "             color =\"참가자\", \n",
    "             barmode=\"group\",\n",
    "             width=800, height=400\n",
    "            )\n",
    "fig.show()"
   ]
  },
  {
   "cell_type": "code",
   "execution_count": null,
   "id": "fac1f93a-bd85-4e21-bf8a-0c5dcdcd9fd8",
   "metadata": {},
   "outputs": [],
   "source": []
  },
  {
   "cell_type": "code",
   "execution_count": null,
   "id": "6c992924-df0b-4054-a583-9c33446c2e20",
   "metadata": {},
   "outputs": [],
   "source": []
  }
 ],
 "metadata": {
  "kernelspec": {
   "display_name": "Python 3 (ipykernel)",
   "language": "python",
   "name": "python3"
  },
  "language_info": {
   "codemirror_mode": {
    "name": "ipython",
    "version": 3
   },
   "file_extension": ".py",
   "mimetype": "text/x-python",
   "name": "python",
   "nbconvert_exporter": "python",
   "pygments_lexer": "ipython3",
   "version": "3.10.14"
  }
 },
 "nbformat": 4,
 "nbformat_minor": 5
}
